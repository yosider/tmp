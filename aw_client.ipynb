{
 "cells": [
  {
   "cell_type": "code",
   "execution_count": 2,
   "metadata": {},
   "outputs": [],
   "source": [
    "from datetime import datetime, time, timedelta\n",
    "import socket\n",
    "\n",
    "import aw_client"
   ]
  },
  {
   "cell_type": "code",
   "execution_count": 3,
   "metadata": {},
   "outputs": [
    {
     "data": {
      "text/plain": [
       "'aw-watcher-afk_unaaaa'"
      ]
     },
     "execution_count": 3,
     "metadata": {},
     "output_type": "execute_result"
    }
   ],
   "source": [
    "bucket_id = f\"aw-watcher-afk_{socket.gethostname()}\"\n",
    "bucket_id"
   ]
  },
  {
   "cell_type": "code",
   "execution_count": 5,
   "metadata": {},
   "outputs": [
    {
     "data": {
      "text/plain": [
       "(datetime.datetime(2024, 3, 2, 0, 0), datetime.datetime(2024, 3, 3, 0, 0))"
      ]
     },
     "execution_count": 5,
     "metadata": {},
     "output_type": "execute_result"
    }
   ],
   "source": [
    "daystart = datetime.combine(datetime.now().date(), time())\n",
    "dayend = daystart + timedelta(days=1)\n",
    "daystart, dayend"
   ]
  },
  {
   "cell_type": "code",
   "execution_count": 6,
   "metadata": {},
   "outputs": [],
   "source": [
    "awc = aw_client.ActivityWatchClient(\"testclient\")"
   ]
  },
  {
   "cell_type": "code",
   "execution_count": 7,
   "metadata": {},
   "outputs": [],
   "source": [
    "events = awc.get_events(bucket_id, start=daystart, end=dayend)"
   ]
  },
  {
   "cell_type": "code",
   "execution_count": 8,
   "metadata": {},
   "outputs": [
    {
     "data": {
      "text/plain": [
       "[{'id': 294540,\n",
       "  'timestamp': datetime.datetime(2024, 3, 2, 10, 16, 8, 971000, tzinfo=datetime.timezone.utc),\n",
       "  'duration': datetime.timedelta(seconds=1767, microseconds=593000),\n",
       "  'data': {'status': 'not-afk'}},\n",
       " {'id': 294539,\n",
       "  'timestamp': datetime.datetime(2024, 3, 2, 10, 12, 36, 132000, tzinfo=datetime.timezone.utc),\n",
       "  'duration': datetime.timedelta(seconds=212, microseconds=838000),\n",
       "  'data': {'status': 'afk'}},\n",
       " {'id': 294261,\n",
       "  'timestamp': datetime.datetime(2024, 3, 2, 9, 19, 23, 284000, tzinfo=datetime.timezone.utc),\n",
       "  'duration': datetime.timedelta(seconds=3192, microseconds=862000),\n",
       "  'data': {'status': 'not-afk'}},\n",
       " {'id': 294250,\n",
       "  'timestamp': datetime.datetime(2024, 3, 2, 9, 5, 13, 208000, tzinfo=datetime.timezone.utc),\n",
       "  'duration': datetime.timedelta(seconds=850, microseconds=75000),\n",
       "  'data': {'status': 'afk'}},\n",
       " {'id': 294251,\n",
       "  'timestamp': datetime.datetime(2024, 3, 2, 9, 5, 13, 208000, tzinfo=datetime.timezone.utc),\n",
       "  'duration': datetime.timedelta(seconds=494, microseconds=321000),\n",
       "  'data': {'status': 'afk'}},\n",
       " {'id': 294252,\n",
       "  'timestamp': datetime.datetime(2024, 3, 2, 9, 5, 13, 208000, tzinfo=datetime.timezone.utc),\n",
       "  'duration': datetime.timedelta(seconds=494, microseconds=321000),\n",
       "  'data': {'status': 'afk'}},\n",
       " {'id': 294253,\n",
       "  'timestamp': datetime.datetime(2024, 3, 2, 9, 5, 13, 208000, tzinfo=datetime.timezone.utc),\n",
       "  'duration': datetime.timedelta(seconds=504, microseconds=418000),\n",
       "  'data': {'status': 'afk'}},\n",
       " {'id': 294254,\n",
       "  'timestamp': datetime.datetime(2024, 3, 2, 9, 5, 13, 208000, tzinfo=datetime.timezone.utc),\n",
       "  'duration': datetime.timedelta(seconds=504, microseconds=418000),\n",
       "  'data': {'status': 'afk'}},\n",
       " {'id': 294255,\n",
       "  'timestamp': datetime.datetime(2024, 3, 2, 9, 5, 13, 208000, tzinfo=datetime.timezone.utc),\n",
       "  'duration': datetime.timedelta(seconds=514, microseconds=433000),\n",
       "  'data': {'status': 'afk'}},\n",
       " {'id': 294256,\n",
       "  'timestamp': datetime.datetime(2024, 3, 2, 9, 5, 13, 208000, tzinfo=datetime.timezone.utc),\n",
       "  'duration': datetime.timedelta(microseconds=15000),\n",
       "  'data': {'status': 'not-afk'}},\n",
       " {'id': 294257,\n",
       "  'timestamp': datetime.datetime(2024, 3, 2, 9, 5, 13, 208000, tzinfo=datetime.timezone.utc),\n",
       "  'duration': datetime.timedelta(seconds=514, microseconds=433000),\n",
       "  'data': {'status': 'afk'}},\n",
       " {'id': 294258,\n",
       "  'timestamp': datetime.datetime(2024, 3, 2, 9, 5, 13, 208000, tzinfo=datetime.timezone.utc),\n",
       "  'duration': datetime.timedelta(seconds=519, microseconds=442000),\n",
       "  'data': {'status': 'afk'}},\n",
       " {'id': 294259,\n",
       "  'timestamp': datetime.datetime(2024, 3, 2, 9, 5, 13, 208000, tzinfo=datetime.timezone.utc),\n",
       "  'duration': datetime.timedelta(seconds=524, microseconds=455000),\n",
       "  'data': {'status': 'afk'}},\n",
       " {'id': 294260,\n",
       "  'timestamp': datetime.datetime(2024, 3, 2, 9, 5, 13, 208000, tzinfo=datetime.timezone.utc),\n",
       "  'duration': datetime.timedelta(seconds=484, microseconds=304000),\n",
       "  'data': {'status': 'afk'}},\n",
       " {'id': 294247,\n",
       "  'timestamp': datetime.datetime(2024, 3, 2, 8, 51, 27, 21000, tzinfo=datetime.timezone.utc),\n",
       "  'duration': datetime.timedelta(seconds=826, microseconds=199000),\n",
       "  'data': {'status': 'afk'}},\n",
       " {'id': 294248,\n",
       "  'timestamp': datetime.datetime(2024, 3, 2, 8, 51, 27, 21000, tzinfo=datetime.timezone.utc),\n",
       "  'duration': datetime.timedelta(seconds=213, microseconds=138000),\n",
       "  'data': {'status': 'afk'}},\n",
       " {'id': 294249,\n",
       "  'timestamp': datetime.datetime(2024, 3, 2, 8, 51, 27, 21000, tzinfo=datetime.timezone.utc),\n",
       "  'duration': datetime.timedelta(seconds=203, microseconds=121000),\n",
       "  'data': {'status': 'afk'}},\n",
       " {'id': 294041,\n",
       "  'timestamp': datetime.datetime(2024, 3, 2, 7, 53, 43, 648000, tzinfo=datetime.timezone.utc),\n",
       "  'duration': datetime.timedelta(seconds=3463, microseconds=388000),\n",
       "  'data': {'status': 'not-afk'}},\n",
       " {'id': 294037,\n",
       "  'timestamp': datetime.datetime(2024, 3, 2, 7, 49, 31, 490000, tzinfo=datetime.timezone.utc),\n",
       "  'duration': datetime.timedelta(seconds=252, microseconds=157000),\n",
       "  'data': {'status': 'afk'}},\n",
       " {'id': 294038,\n",
       "  'timestamp': datetime.datetime(2024, 3, 2, 7, 49, 31, 490000, tzinfo=datetime.timezone.utc),\n",
       "  'duration': datetime.timedelta(seconds=217, microseconds=442000),\n",
       "  'data': {'status': 'afk'}},\n",
       " {'id': 294039,\n",
       "  'timestamp': datetime.datetime(2024, 3, 2, 7, 49, 31, 490000, tzinfo=datetime.timezone.utc),\n",
       "  'duration': datetime.timedelta(seconds=227, microseconds=462000),\n",
       "  'data': {'status': 'afk'}},\n",
       " {'id': 294040,\n",
       "  'timestamp': datetime.datetime(2024, 3, 2, 7, 49, 31, 490000, tzinfo=datetime.timezone.utc),\n",
       "  'duration': datetime.timedelta(seconds=212, microseconds=439000),\n",
       "  'data': {'status': 'afk'}},\n",
       " {'id': 294036,\n",
       "  'timestamp': datetime.datetime(2024, 3, 2, 7, 49, 23, 325000, tzinfo=datetime.timezone.utc),\n",
       "  'duration': datetime.timedelta(seconds=8, microseconds=180000),\n",
       "  'data': {'status': 'not-afk'}},\n",
       " {'id': 294035,\n",
       "  'timestamp': datetime.datetime(2024, 3, 2, 7, 44, 17, 974000, tzinfo=datetime.timezone.utc),\n",
       "  'duration': datetime.timedelta(seconds=305, microseconds=350000),\n",
       "  'data': {'status': 'afk'}},\n",
       " {'id': 294034,\n",
       "  'timestamp': datetime.datetime(2024, 3, 2, 7, 44, 11, 404000, tzinfo=datetime.timezone.utc),\n",
       "  'duration': datetime.timedelta(seconds=6, microseconds=584000),\n",
       "  'data': {'status': 'not-afk'}},\n",
       " {'id': 294032,\n",
       "  'timestamp': datetime.datetime(2024, 3, 2, 7, 40, 45, 914000, tzinfo=datetime.timezone.utc),\n",
       "  'duration': datetime.timedelta(seconds=205, microseconds=489000),\n",
       "  'data': {'status': 'afk'}},\n",
       " {'id': 294033,\n",
       "  'timestamp': datetime.datetime(2024, 3, 2, 7, 40, 45, 914000, tzinfo=datetime.timezone.utc),\n",
       "  'duration': datetime.timedelta(seconds=205, microseconds=489000),\n",
       "  'data': {'status': 'afk'}},\n",
       " {'id': 294031,\n",
       "  'timestamp': datetime.datetime(2024, 3, 2, 7, 40, 37, 701000, tzinfo=datetime.timezone.utc),\n",
       "  'duration': datetime.timedelta(seconds=8, microseconds=226000),\n",
       "  'data': {'status': 'not-afk'}},\n",
       " {'id': 294029,\n",
       "  'timestamp': datetime.datetime(2024, 3, 2, 7, 36, 59, 927000, tzinfo=datetime.timezone.utc),\n",
       "  'duration': datetime.timedelta(seconds=217, microseconds=773000),\n",
       "  'data': {'status': 'afk'}},\n",
       " {'id': 294030,\n",
       "  'timestamp': datetime.datetime(2024, 3, 2, 7, 36, 59, 927000, tzinfo=datetime.timezone.utc),\n",
       "  'duration': datetime.timedelta(seconds=192, microseconds=791000),\n",
       "  'data': {'status': 'afk'}},\n",
       " {'id': 293996,\n",
       "  'timestamp': datetime.datetime(2024, 3, 2, 7, 18, 49, 952000, tzinfo=datetime.timezone.utc),\n",
       "  'duration': datetime.timedelta(seconds=1089, microseconds=990000),\n",
       "  'data': {'status': 'not-afk'}},\n",
       " {'id': 293989,\n",
       "  'timestamp': datetime.datetime(2024, 3, 2, 7, 14, 51, 115000, tzinfo=datetime.timezone.utc),\n",
       "  'duration': datetime.timedelta(seconds=238, microseconds=836000),\n",
       "  'data': {'status': 'afk'}},\n",
       " {'id': 293990,\n",
       "  'timestamp': datetime.datetime(2024, 3, 2, 7, 14, 51, 115000, tzinfo=datetime.timezone.utc),\n",
       "  'duration': datetime.timedelta(seconds=219, microseconds=452000),\n",
       "  'data': {'status': 'afk'}},\n",
       " {'id': 293991,\n",
       "  'timestamp': datetime.datetime(2024, 3, 2, 7, 14, 51, 115000, tzinfo=datetime.timezone.utc),\n",
       "  'duration': datetime.timedelta(seconds=224, microseconds=461000),\n",
       "  'data': {'status': 'afk'}},\n",
       " {'id': 293992,\n",
       "  'timestamp': datetime.datetime(2024, 3, 2, 7, 14, 51, 115000, tzinfo=datetime.timezone.utc),\n",
       "  'duration': datetime.timedelta(seconds=214, microseconds=440000),\n",
       "  'data': {'status': 'afk'}},\n",
       " {'id': 293913,\n",
       "  'timestamp': datetime.datetime(2024, 3, 2, 6, 33, 50, 777000, tzinfo=datetime.timezone.utc),\n",
       "  'duration': datetime.timedelta(seconds=2460, microseconds=351000),\n",
       "  'data': {'status': 'not-afk'}},\n",
       " {'id': 293908,\n",
       "  'timestamp': datetime.datetime(2024, 3, 2, 0, 0, tzinfo=datetime.timezone.utc),\n",
       "  'duration': datetime.timedelta(seconds=23630, microseconds=776000),\n",
       "  'data': {'status': 'afk'}},\n",
       " {'id': 293910,\n",
       "  'timestamp': datetime.datetime(2024, 3, 2, 0, 0, tzinfo=datetime.timezone.utc),\n",
       "  'duration': datetime.timedelta(seconds=23630, microseconds=776000),\n",
       "  'data': {'status': 'afk'}}]"
      ]
     },
     "execution_count": 8,
     "metadata": {},
     "output_type": "execute_result"
    }
   ],
   "source": [
    "events"
   ]
  },
  {
   "cell_type": "code",
   "execution_count": 9,
   "metadata": {},
   "outputs": [],
   "source": [
    "# filter out afk events\n",
    "events = [e for e in events if e[\"data\"][\"status\"] == \"not-afk\"]"
   ]
  },
  {
   "cell_type": "code",
   "execution_count": 10,
   "metadata": {},
   "outputs": [],
   "source": [
    "total_duration = sum((e.duration for e in events), timedelta())"
   ]
  },
  {
   "cell_type": "code",
   "execution_count": 11,
   "metadata": {},
   "outputs": [
    {
     "name": "stdout",
     "output_type": "stream",
     "text": [
      "Total time spent on computer today: 3:19:57.189000\n"
     ]
    }
   ],
   "source": [
    "print(f\"Total time spent on computer today: {total_duration}\")"
   ]
  }
 ],
 "metadata": {
  "kernelspec": {
   "display_name": "activitywatch",
   "language": "python",
   "name": "python3"
  },
  "language_info": {
   "codemirror_mode": {
    "name": "ipython",
    "version": 3
   },
   "file_extension": ".py",
   "mimetype": "text/x-python",
   "name": "python",
   "nbconvert_exporter": "python",
   "pygments_lexer": "ipython3",
   "version": "3.11.6"
  }
 },
 "nbformat": 4,
 "nbformat_minor": 2
}
